{
  "nbformat": 4,
  "nbformat_minor": 0,
  "metadata": {
    "colab": {
      "name": "day6(6.07.2019).ipynb",
      "version": "0.3.2",
      "provenance": [],
      "collapsed_sections": [],
      "include_colab_link": true
    },
    "kernelspec": {
      "name": "python3",
      "display_name": "Python 3"
    }
  },
  "cells": [
    {
      "cell_type": "markdown",
      "metadata": {
        "id": "view-in-github",
        "colab_type": "text"
      },
      "source": [
        "<a href=\"https://colab.research.google.com/github/1vpranav/Colab-Day-6/blob/master/day6(6_07_2019).ipynb\" target=\"_parent\"><img src=\"https://colab.research.google.com/assets/colab-badge.svg\" alt=\"Open In Colab\"/></a>"
      ]
    },
    {
      "cell_type": "code",
      "metadata": {
        "id": "i1qxiGtO5ylB",
        "colab_type": "code",
        "colab": {
          "base_uri": "https://localhost:8080/",
          "height": 101
        },
        "outputId": "d3a68f51-9c1f-467d-9d7f-94421eebb136"
      },
      "source": [
        "print(\"Gitam\")\n",
        "print(\"Gitam\")\n",
        "print(\"Gitam\")\n",
        "print(\"Gitam\")\n",
        "print(\"Gitam\")"
      ],
      "execution_count": 1,
      "outputs": [
        {
          "output_type": "stream",
          "text": [
            "Gitam\n",
            "Gitam\n",
            "Gitam\n",
            "Gitam\n",
            "Gitam\n"
          ],
          "name": "stdout"
        }
      ]
    },
    {
      "cell_type": "code",
      "metadata": {
        "id": "hnfgCtnR6F2U",
        "colab_type": "code",
        "colab": {
          "base_uri": "https://localhost:8080/",
          "height": 101
        },
        "outputId": "9c2e0347-441d-41cb-ed5a-78f4c0509e0b"
      },
      "source": [
        "x = 0\n",
        "while x < 5 :\n",
        "    print(\"Gitam\")\n",
        "    x = x + 1"
      ],
      "execution_count": 2,
      "outputs": [
        {
          "output_type": "stream",
          "text": [
            "Gitam\n",
            "Gitam\n",
            "Gitam\n",
            "Gitam\n",
            "Gitam\n"
          ],
          "name": "stdout"
        }
      ]
    },
    {
      "cell_type": "code",
      "metadata": {
        "id": "m6WLal2J6NjX",
        "colab_type": "code",
        "colab": {
          "base_uri": "https://localhost:8080/",
          "height": 50
        },
        "outputId": "b3f3709c-6838-4788-f688-9cd33737db2f"
      },
      "source": [
        "n = int(input(\"Enter a Number\"))\n",
        "i = 1\n",
        "while i <= n : \n",
        "    print(i,end = \" \")\n",
        "    i = i + 1"
      ],
      "execution_count": 11,
      "outputs": [
        {
          "output_type": "stream",
          "text": [
            "Enter a Number10\n",
            "1 2 3 4 5 6 7 8 9 10 "
          ],
          "name": "stdout"
        }
      ]
    },
    {
      "cell_type": "code",
      "metadata": {
        "id": "KJZivLRT6XI_",
        "colab_type": "code",
        "colab": {
          "base_uri": "https://localhost:8080/",
          "height": 50
        },
        "outputId": "b40bf823-f5fd-4170-be06-6af87c93441b"
      },
      "source": [
        "n = int(input('Enter a Number '))\n",
        "i = 1\n",
        "sum = 0\n",
        "while i <= n:\n",
        "    if i % 2 == 0:\n",
        "        sum = sum + i\n",
        "    i = i + 1\n",
        "print(sum)    "
      ],
      "execution_count": 12,
      "outputs": [
        {
          "output_type": "stream",
          "text": [
            "Enter a Number 30\n",
            "240\n"
          ],
          "name": "stdout"
        }
      ]
    },
    {
      "cell_type": "code",
      "metadata": {
        "id": "2_fdD6-H6jA3",
        "colab_type": "code",
        "colab": {
          "base_uri": "https://localhost:8080/",
          "height": 50
        },
        "outputId": "3f0e2f08-2c39-428b-a29f-88d3c6338f6d"
      },
      "source": [
        "n = int(input('Enter a Number '))\n",
        "while n != 0:\n",
        "    r = n % 10\n",
        "    print(r,end = \" \")\n",
        "    n = n // 10\n",
        "    "
      ],
      "execution_count": 13,
      "outputs": [
        {
          "output_type": "stream",
          "text": [
            "Enter a Number 123\n",
            "3 2 1 "
          ],
          "name": "stdout"
        }
      ]
    },
    {
      "cell_type": "code",
      "metadata": {
        "id": "_nWHtdf2IPFs",
        "colab_type": "code",
        "colab": {}
      },
      "source": [
        ""
      ],
      "execution_count": 0,
      "outputs": []
    },
    {
      "cell_type": "code",
      "metadata": {
        "id": "JCMs6vBA6ro0",
        "colab_type": "code",
        "colab": {
          "base_uri": "https://localhost:8080/",
          "height": 34
        },
        "outputId": "92220e9b-5831-4052-885f-d9161b49a0aa"
      },
      "source": [
        "def addEvenDigits(n):\n",
        "    sum = 0\n",
        "    while n != 0:\n",
        "        r = n % 10\n",
        "        if r % 2 == 0:\n",
        "            sum = sum + r\n",
        "        n = n // 10\n",
        "    print(sum)\n",
        "    return\n",
        "addEvenDigits(1234)  "
      ],
      "execution_count": 6,
      "outputs": [
        {
          "output_type": "stream",
          "text": [
            "6\n"
          ],
          "name": "stdout"
        }
      ]
    },
    {
      "cell_type": "code",
      "metadata": {
        "id": "aen1BLIl60Kd",
        "colab_type": "code",
        "colab": {
          "base_uri": "https://localhost:8080/",
          "height": 34
        },
        "outputId": "a12269e4-70ff-4f96-a4c3-4968c1e60bc9"
      },
      "source": [
        "def printLarge(n) :\n",
        "    large = 0\n",
        "    while n != 0 :\n",
        "        r = n % 10\n",
        "        if large < r:\n",
        "            large = r\n",
        "        n = n // 10    \n",
        "    return large\n",
        "printLarge(19528)   "
      ],
      "execution_count": 7,
      "outputs": [
        {
          "output_type": "execute_result",
          "data": {
            "text/plain": [
              "9"
            ]
          },
          "metadata": {
            "tags": []
          },
          "execution_count": 7
        }
      ]
    },
    {
      "cell_type": "code",
      "metadata": {
        "id": "cTGN38xL7BL7",
        "colab_type": "code",
        "colab": {
          "base_uri": "https://localhost:8080/",
          "height": 50
        },
        "outputId": "9b8b4e6e-f752-4281-fb06-d91c0b4d3d19"
      },
      "source": [
        "def ispalindrome(n) :\n",
        "    rev = 0\n",
        "    buffer = n\n",
        "    while n != 0:\n",
        "        r = n % 10\n",
        "        rev = rev * 10 + r\n",
        "        n = n // 10\n",
        "    if buffer == rev:\n",
        "        return \"Yes\"\n",
        "    else:\n",
        "        return\"No\"\n",
        "print(ispalindrome(123))  \n",
        "print(ispalindrome(121))  "
      ],
      "execution_count": 8,
      "outputs": [
        {
          "output_type": "stream",
          "text": [
            "No\n",
            "Yes\n"
          ],
          "name": "stdout"
        }
      ]
    },
    {
      "cell_type": "code",
      "metadata": {
        "id": "FxAw5Vm47I5s",
        "colab_type": "code",
        "colab": {
          "base_uri": "https://localhost:8080/",
          "height": 34
        },
        "outputId": "e42cdd74-dbce-46fa-9bb9-b4711638d3ff"
      },
      "source": [
        "def printSeries(lb,ub):\n",
        "    for x in range(lb,ub+1):\n",
        "        print(x,end=\" \")\n",
        "    return\n",
        "printSeries(11,25)"
      ],
      "execution_count": 9,
      "outputs": [
        {
          "output_type": "stream",
          "text": [
            "11 12 13 14 15 16 17 18 19 20 21 22 23 24 25 "
          ],
          "name": "stdout"
        }
      ]
    },
    {
      "cell_type": "code",
      "metadata": {
        "id": "jlCi1gwL7SXq",
        "colab_type": "code",
        "colab": {
          "base_uri": "https://localhost:8080/",
          "height": 34
        },
        "outputId": "5657e935-64b2-4aee-fbad-0b1848a45b83"
      },
      "source": [
        "def alternateNumbers(lb,ub):\n",
        "    for x in range(lb,ub+1,4):\n",
        "        print(x,end=\" \")\n",
        "    return\n",
        "alternateNumbers(100,150)    "
      ],
      "execution_count": 10,
      "outputs": [
        {
          "output_type": "stream",
          "text": [
            "100 104 108 112 116 120 124 128 132 136 140 144 148 "
          ],
          "name": "stdout"
        }
      ]
    }
  ]
}